{
 "cells": [
  {
   "cell_type": "code",
   "execution_count": 3,
   "metadata": {},
   "outputs": [
    {
     "name": "stdout",
     "output_type": "stream",
     "text": [
      "2\n",
      "8\n"
     ]
    }
   ],
   "source": [
    "def number_of_words(sentence):\n",
    "\n",
    "  words = sentence.split()\n",
    "\n",
    "  word_count = len(words)\n",
    "\n",
    "  return word_count\n",
    "\n",
    "sentence = \"Hello World!\"\n",
    "word_count = number_of_words(sentence)\n",
    "print(word_count)\n",
    "\n",
    "sentence = \"Once Upon a Time in a faraway land\"\n",
    "word_count = number_of_words(sentence)\n",
    "print(word_count)\n"
   ]
  },
  {
   "cell_type": "code",
   "execution_count": 7,
   "metadata": {},
   "outputs": [
    {
     "name": "stdout",
     "output_type": "stream",
     "text": [
      "[5, 10, 15, 20]\n",
      "[10, 20, 30, 40, 50]\n"
     ]
    }
   ],
   "source": [
    "def find_multiples(start_range, end_range, multiple):\n",
    "    result = []\n",
    "    \n",
    "    for i in range(start_range, end_range + 1):\n",
    "        if i % multiple == 0:\n",
    "            result.append(i)\n",
    "        \n",
    "    return result\n",
    "\n",
    "output = find_multiples(1, 20, 5)\n",
    "print(output)\n",
    "\n",
    "output = find_multiples(1, 50, 10)\n",
    "print(output)\n",
    "\n",
    "\n",
    "\n"
   ]
  },
  {
   "cell_type": "code",
   "execution_count": 9,
   "metadata": {},
   "outputs": [
    {
     "name": "stdout",
     "output_type": "stream",
     "text": [
      "{'Adam': 1.0, 'Faiz': 4.0}\n",
      "{'Albert': 'A', 'Dwi': 'B', 'Syahdan': 'F', 'Veronica': 'B'}\n"
     ]
    }
   ],
   "source": [
    "def Grade_Converter(convert_to, **kwargs):\n",
    "\n",
    "  if convert_to not in ['letter_grade', 'gpa']:\n",
    "    raise ValueError(\"Invalid convert_to value. Must be 'letter_grade' or 'gpa'.\")\n",
    "\n",
    "  converted_grades = {}\n",
    "  for student, score in kwargs.items():\n",
    "    if convert_to == 'letter_grade':\n",
    "      converted_grades[student] = letter_grade_from_score(score)\n",
    "    else:\n",
    "      converted_grades[student] = gpa_from_score(score)\n",
    "\n",
    "  return converted_grades\n",
    "\n",
    "def letter_grade_from_score(score):\n",
    "  if score >= 90:\n",
    "    return 'A'\n",
    "  elif score >= 80:\n",
    "    return 'B'\n",
    "  elif score >= 70:\n",
    "    return 'C'\n",
    "  elif score >= 60:\n",
    "    return 'D'\n",
    "  else:\n",
    "    return 'F'\n",
    "\n",
    "def gpa_from_score(score):\n",
    "  if score >= 90:\n",
    "    return 4.0\n",
    "  elif score >= 80:\n",
    "    return 3.0\n",
    "  elif score >= 70:\n",
    "    return 2.0\n",
    "  elif score >= 60:\n",
    "    return 1.0\n",
    "  else:\n",
    "    return 0.0\n",
    "\n",
    "gpas = Grade_Converter(\"gpa\", Adam=62, Faiz=91)\n",
    "print(gpas)\n",
    "\n",
    "letter_grades = Grade_Converter(\"letter_grade\", Albert=90, Dwi=82, Syahdan=58, Veronica=84)\n",
    "print(letter_grades)"
   ]
  }
 ],
 "metadata": {
  "kernelspec": {
   "display_name": "base",
   "language": "python",
   "name": "python3"
  },
  "language_info": {
   "codemirror_mode": {
    "name": "ipython",
    "version": 3
   },
   "file_extension": ".py",
   "mimetype": "text/x-python",
   "name": "python",
   "nbconvert_exporter": "python",
   "pygments_lexer": "ipython3",
   "version": "3.12.4"
  }
 },
 "nbformat": 4,
 "nbformat_minor": 2
}
